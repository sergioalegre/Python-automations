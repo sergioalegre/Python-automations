{
 "cells": [
  {
   "cell_type": "code",
   "execution_count": null,
   "metadata": {},
   "outputs": [],
   "source": [
    "#Basado https://www.youtube.com/watch?v=ve2ZRPRXHpQ\n",
    "#Este ejemplo reproduce un mp3 y carga un JPG a pantalla completa"
   ]
  },
  {
   "cell_type": "code",
   "execution_count": 2,
   "metadata": {},
   "outputs": [
    {
     "name": "stdout",
     "output_type": "stream",
     "text": [
      "Collecting pygame\n",
      "  Downloading https://files.pythonhosted.org/packages/f2/30/92522de55be3f81fd0816331aac8ab12fe24116c4602960de5397726eae1/pygame-2.0.0-cp37-cp37m-win_amd64.whl (5.1MB)\n",
      "Installing collected packages: pygame\n",
      "Successfully installed pygame-2.0.0\n"
     ]
    }
   ],
   "source": [
    "#Prerequisitos\n",
    "import sys\n",
    "!{sys.executable} -m pip install -U pygame"
   ]
  },
  {
   "cell_type": "code",
   "execution_count": null,
   "metadata": {
    "scrolled": true
   },
   "outputs": [],
   "source": [
    "import pygame #module designed for create featured games and multimedia programs\n",
    "from time import sleep\n",
    "pygame.init()\n",
    "widow = pygame.display.set_mode((0,0), pygame.FULLSCREEN) #desde la esquina a pantalla completa\n",
    "pygame.mixer.init()\n",
    "pygame.miter.music.load('musica.mp3')\n",
    "pygame.mixer.play()\n",
    "sleep(1)\n",
    "image = pygane.image.load('imagen.jpg')\n",
    "window.blit(image, (0,0)) #que empiece desde la esquina\n",
    "pygame.display.update()\n",
    "sleep(1)"
   ]
  },
  {
   "cell_type": "code",
   "execution_count": null,
   "metadata": {},
   "outputs": [],
   "source": []
  }
 ],
 "metadata": {
  "kernelspec": {
   "display_name": "Python 3",
   "language": "python",
   "name": "python3"
  },
  "language_info": {
   "codemirror_mode": {
    "name": "ipython",
    "version": 3
   },
   "file_extension": ".py",
   "mimetype": "text/x-python",
   "name": "python",
   "nbconvert_exporter": "python",
   "pygments_lexer": "ipython3",
   "version": "3.7.3"
  }
 },
 "nbformat": 4,
 "nbformat_minor": 2
}
