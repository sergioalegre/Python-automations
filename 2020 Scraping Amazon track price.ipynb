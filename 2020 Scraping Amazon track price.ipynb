{
 "cells": [
  {
   "cell_type": "code",
   "execution_count": null,
   "metadata": {},
   "outputs": [],
   "source": [
    "#Basado en https://www.youtube.com/watch?v=Bg9r_yLk7VY\n",
    "\n",
    "Nota: no funciona da error de certificado SSL"
   ]
  },
  {
   "cell_type": "code",
   "execution_count": 14,
   "metadata": {},
   "outputs": [],
   "source": [
    "import requests\n",
    "from bs4 import BeautifulSoup #Python library for pulling data out of HTML and XML files\n",
    "import smtplib\n",
    "import time"
   ]
  },
  {
   "cell_type": "code",
   "execution_count": 16,
   "metadata": {},
   "outputs": [],
   "source": [
    "#El arítuculo a seguir\n",
    "URL='https://www.amazon.de/LABISTS-Ultimatives-Aus-Schaltnetzteil-K%C3%BChlk%C3%B6rper-HDMI-Kabel/dp/B0895S68JQ'"
   ]
  },
  {
   "cell_type": "code",
   "execution_count": 5,
   "metadata": {},
   "outputs": [],
   "source": [
    "#En el navegador en google poner: \"my user agent\" y nos dará este valor\n",
    "headers = {\"User-Agent\": 'Mozilla/5.0 (Windows NT 10.0; Win64; x64) AppleWebKit/537.36 (KHTML, like Gecko) Chrome/87.0.4280.88 Safari/537.36'}"
   ]
  },
  {
   "cell_type": "code",
   "execution_count": null,
   "metadata": {},
   "outputs": [],
   "source": [
    "page = requests.get(URL, headers=headers)\n",
    "soup = BeautifulSoup(page.content, 'html.parser')"
   ]
  },
  {
   "cell_type": "code",
   "execution_count": null,
   "metadata": {},
   "outputs": [],
   "source": [
    "def check_price():\n",
    "    #el html id del producto es productTitle\n",
    "    nombre_articulo = soup.find(id=\"productTitle\").get_text()\n",
    "    print(nombre_articulo.strip()) #nos devuelve el nombre del articulo sin espacios\n",
    "\n",
    "    #el html id del precio es priceblock_ourprice\n",
    "    precio = soup.find(id=\"priceblock_ourprice\").get_text()\n",
    "    precio_convertido = float(price[0:5]) #que coja los 5 primeros caracteres asi no lee el simbolo de € y lo convierta a float\n",
    "    print(precio_convertido)\n",
    "\n",
    "    if(precio_convertido < 100): #si el precio baja a un precio ganga que nos envie un email\n",
    "        send_mail()"
   ]
  },
  {
   "cell_type": "code",
   "execution_count": null,
   "metadata": {},
   "outputs": [],
   "source": [
    "def send_mail():\n",
    "    server = smtplib.SMTP('smtp.gmail.com', 587)\n",
    "    server.ehlo() #para establecer conexion\n",
    "    server.starttls()\n",
    "    server.ehlo() #es necesario repetir\n",
    "    \n",
    "    server.login('miusuario@gmail.com', 'micontraseña')\n",
    "    subject = 'El precio ha bajado'\n",
    "    body = 'Entra en Amazon'\n",
    "    msg = f\"Subject: {subject}\\n\\n{body}\n",
    "    server.sendmail(\n",
    "        'destinatario1@hotmail.com',\n",
    "        'destinatario2@gmail.com',\n",
    "        msg\n",
    "    )\n",
    "    print('email enviado')\n",
    "    server.quit()"
   ]
  },
  {
   "cell_type": "code",
   "execution_count": null,
   "metadata": {},
   "outputs": [],
   "source": [
    "#Iniciar todo el proceso:\n",
    "while(True): #esto NUNCA acabará\n",
    "    check_price()\n",
    "    time.sleep(60*60) #que lo compruebe cada hora"
   ]
  }
 ],
 "metadata": {
  "kernelspec": {
   "display_name": "Python 3",
   "language": "python",
   "name": "python3"
  },
  "language_info": {
   "codemirror_mode": {
    "name": "ipython",
    "version": 3
   },
   "file_extension": ".py",
   "mimetype": "text/x-python",
   "name": "python",
   "nbconvert_exporter": "python",
   "pygments_lexer": "ipython3",
   "version": "3.7.3"
  }
 },
 "nbformat": 4,
 "nbformat_minor": 2
}
