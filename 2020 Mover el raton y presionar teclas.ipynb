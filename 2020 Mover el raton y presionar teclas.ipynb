{
 "cells": [
  {
   "cell_type": "code",
   "execution_count": null,
   "metadata": {},
   "outputs": [],
   "source": [
    "#Basado https://www.youtube.com/watch?v=DzQXk9jesPc&list=PLst9mKBGfYJdcLU0MG3BEl7b00KC9f13a&index=4\n",
    "'''\n",
    "Este script simulará que trabajamos moviendo el mouse y presionando una tecla cada x tiempo\n",
    "'''"
   ]
  },
  {
   "cell_type": "code",
   "execution_count": null,
   "metadata": {},
   "outputs": [],
   "source": [
    "#requisito: pip install pyautogui"
   ]
  },
  {
   "cell_type": "code",
   "execution_count": 3,
   "metadata": {},
   "outputs": [],
   "source": [
    "import pyautogui\n",
    "import time"
   ]
  },
  {
   "cell_type": "code",
   "execution_count": null,
   "metadata": {},
   "outputs": [],
   "source": [
    "pyautogui.FAILSAFE = False #requisito para tomar el control del ratón\n",
    "\n",
    "while True: #esto correrá siempre\n",
    "    time.sleep(2)\n",
    "    for i in range(0, 100):\n",
    "        pyautogui.moveTo(0, i*5) #desde la esquina (0 en la X), que vaya bajando en la Y\n",
    "    for i in range (0, 3):\n",
    "        pyautogui.press('shift')"
   ]
  }
 ],
 "metadata": {
  "kernelspec": {
   "display_name": "Python 3",
   "language": "python",
   "name": "python3"
  },
  "language_info": {
   "codemirror_mode": {
    "name": "ipython",
    "version": 3
   },
   "file_extension": ".py",
   "mimetype": "text/x-python",
   "name": "python",
   "nbconvert_exporter": "python",
   "pygments_lexer": "ipython3",
   "version": "3.7.3"
  }
 },
 "nbformat": 4,
 "nbformat_minor": 2
}
